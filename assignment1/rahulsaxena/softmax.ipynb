{
  "cells": [
    {
      "cell_type": "markdown",
      "metadata": {
        "id": "2HxjTZrm_G_g"
      },
      "source": [
        "# Softmax exercise\n",
        "\n",
        "*Complete and hand in this completed worksheet (including its outputs and any supporting code outside of the worksheet) with your assignment submission. For more details see the [assignments page](https://compsci682-fa19.github.io/assignments2019/assignment1/) on the course website.*\n",
        "\n",
        "This exercise is analogous to the SVM exercise. You will:\n",
        "\n",
        "- implement a fully-vectorized **loss function** for the Softmax classifier\n",
        "- implement the fully-vectorized expression for its **analytic gradient**\n",
        "- **check your implementation** with numerical gradient\n",
        "- use a validation set to **tune the learning rate and regularization** strength\n",
        "- **optimize** the loss function with **SGD**\n",
        "- **visualize** the final learned weights\n"
      ]
    },
    {
      "cell_type": "code",
      "source": [
        "### IF YOU ARE USING COLAB, UNCOMMENT AND RUN THIS BLOCK FIRST ###\n",
        "\n",
        "# Mount google drive to allow access to your files\n",
        "from google.colab import drive\n",
        "drive.mount('/content/drive')\n",
        "drive_folder = '/content/drive/MyDrive'\n",
        "# Ajust this line to be the assignment1 folder in your google drive\n",
        "notebook_folder = drive_folder + '/cs682/assignment1'\n",
        "%cd {notebook_folder}"
      ],
      "metadata": {
        "id": "MNbzMz7n_LwR",
        "colab": {
          "base_uri": "https://localhost:8080/"
        },
        "outputId": "f6e92a45-cbcf-49da-c8e0-ec6b5cc05267"
      },
      "execution_count": null,
      "outputs": [
        {
          "output_type": "stream",
          "name": "stdout",
          "text": [
            "Mounted at /content/drive\n",
            "/content/drive/MyDrive/cs682/assignment1\n"
          ]
        }
      ]
    },
    {
      "cell_type": "code",
      "execution_count": null,
      "metadata": {
        "id": "a-uQ4GDE_G_j"
      },
      "outputs": [],
      "source": [
        "from __future__ import print_function\n",
        "import random\n",
        "import numpy as np\n",
        "from cs682.data_utils import load_CIFAR10\n",
        "import matplotlib.pyplot as plt\n",
        "\n",
        "\n",
        "%matplotlib inline\n",
        "plt.rcParams['figure.figsize'] = (10.0, 8.0) # set default size of plots\n",
        "plt.rcParams['image.interpolation'] = 'nearest'\n",
        "plt.rcParams['image.cmap'] = 'gray'\n",
        "\n",
        "# for auto-reloading extenrnal modules\n",
        "# see http://stackoverflow.com/questions/1907993/autoreload-of-modules-in-ipython\n",
        "%load_ext autoreload\n",
        "%autoreload 2"
      ]
    },
    {
      "cell_type": "code",
      "execution_count": null,
      "metadata": {
        "id": "CWjG--4G_G_k",
        "colab": {
          "base_uri": "https://localhost:8080/"
        },
        "outputId": "9194086e-5292-4d2c-c877-c3b29905e8fe"
      },
      "outputs": [
        {
          "output_type": "stream",
          "name": "stdout",
          "text": [
            "Train data shape:  (49000, 3073)\n",
            "Train labels shape:  (49000,)\n",
            "Validation data shape:  (1000, 3073)\n",
            "Validation labels shape:  (1000,)\n",
            "Test data shape:  (1000, 3073)\n",
            "Test labels shape:  (1000,)\n",
            "dev data shape:  (500, 3073)\n",
            "dev labels shape:  (500,)\n"
          ]
        }
      ],
      "source": [
        "def get_CIFAR10_data(num_training=49000, num_validation=1000, num_test=1000, num_dev=500):\n",
        "    \"\"\"\n",
        "    Load the CIFAR-10 dataset from disk and perform preprocessing to prepare\n",
        "    it for the linear classifier. These are the same steps as we used for the\n",
        "    SVM, but condensed to a single function.\n",
        "    \"\"\"\n",
        "    # Load the raw CIFAR-10 data\n",
        "    cifar10_dir = 'cs682/datasets/cifar-10-batches-py'\n",
        "    # Don't forget to run get_datasets.sh, or this will throw an error\n",
        "    X_train, y_train, X_test, y_test = load_CIFAR10(cifar10_dir)\n",
        "\n",
        "    # subsample the data\n",
        "    mask = list(range(num_training, num_training + num_validation))\n",
        "    X_val = X_train[mask]\n",
        "    y_val = y_train[mask]\n",
        "    mask = list(range(num_training))\n",
        "    X_train = X_train[mask]\n",
        "    y_train = y_train[mask]\n",
        "    mask = list(range(num_test))\n",
        "    X_test = X_test[mask]\n",
        "    y_test = y_test[mask]\n",
        "    mask = np.random.choice(num_training, num_dev, replace=False)\n",
        "    X_dev = X_train[mask]\n",
        "    y_dev = y_train[mask]\n",
        "\n",
        "    # Preprocessing: reshape the image data into rows\n",
        "    X_train = np.reshape(X_train, (X_train.shape[0], -1))\n",
        "    X_val = np.reshape(X_val, (X_val.shape[0], -1))\n",
        "    X_test = np.reshape(X_test, (X_test.shape[0], -1))\n",
        "    X_dev = np.reshape(X_dev, (X_dev.shape[0], -1))\n",
        "\n",
        "    # Normalize the data: subtract the mean image\n",
        "    mean_image = np.mean(X_train, axis = 0)\n",
        "    X_train -= mean_image\n",
        "    X_val -= mean_image\n",
        "    X_test -= mean_image\n",
        "    X_dev -= mean_image\n",
        "\n",
        "    # add bias dimension and transform into columns\n",
        "    X_train = np.hstack([X_train, np.ones((X_train.shape[0], 1))])\n",
        "    X_val = np.hstack([X_val, np.ones((X_val.shape[0], 1))])\n",
        "    X_test = np.hstack([X_test, np.ones((X_test.shape[0], 1))])\n",
        "    X_dev = np.hstack([X_dev, np.ones((X_dev.shape[0], 1))])\n",
        "\n",
        "    return X_train, y_train, X_val, y_val, X_test, y_test, X_dev, y_dev\n",
        "\n",
        "\n",
        "# Cleaning up variables to prevent loading data multiple times (which may cause memory issue)\n",
        "try:\n",
        "   del X_train, y_train\n",
        "   del X_test, y_test\n",
        "   print('Clear previously loaded data.')\n",
        "except:\n",
        "   pass\n",
        "\n",
        "# Invoke the above function to get our data.\n",
        "X_train, y_train, X_val, y_val, X_test, y_test, X_dev, y_dev = get_CIFAR10_data()\n",
        "print('Train data shape: ', X_train.shape)\n",
        "print('Train labels shape: ', y_train.shape)\n",
        "print('Validation data shape: ', X_val.shape)\n",
        "print('Validation labels shape: ', y_val.shape)\n",
        "print('Test data shape: ', X_test.shape)\n",
        "print('Test labels shape: ', y_test.shape)\n",
        "print('dev data shape: ', X_dev.shape)\n",
        "print('dev labels shape: ', y_dev.shape)"
      ]
    },
    {
      "cell_type": "markdown",
      "metadata": {
        "id": "h9LGPLOA_G_m"
      },
      "source": [
        "## Softmax Classifier\n",
        "\n",
        "Your code for this section will all be written inside **cs682/classifiers/softmax.py**.\n"
      ]
    },
    {
      "cell_type": "code",
      "execution_count": null,
      "metadata": {
        "id": "8gCn9xQ7_G_n",
        "colab": {
          "base_uri": "https://localhost:8080/"
        },
        "outputId": "ce89e3df-a45a-4050-eab0-9628040591a9"
      },
      "outputs": [
        {
          "output_type": "stream",
          "name": "stdout",
          "text": [
            "loss: 2.336509\n",
            "sanity check: 2.302585\n"
          ]
        }
      ],
      "source": [
        "# First implement the naive softmax loss function with nested loops.\n",
        "# Open the file cs682/classifiers/softmax.py and implement the\n",
        "# softmax_loss_naive function.\n",
        "\n",
        "from cs682.classifiers.softmax import softmax_loss_naive\n",
        "import time\n",
        "\n",
        "# Generate a random softmax weight matrix and use it to compute the loss.\n",
        "W = np.random.randn(3073, 10) * 0.0001\n",
        "loss, grad = softmax_loss_naive(W, X_dev, y_dev, 0.0)\n",
        "\n",
        "# As a rough sanity check, our loss should be something close to -log(0.1).\n",
        "print('loss: %f' % loss)\n",
        "print('sanity check: %f' % (-np.log(0.1)))"
      ]
    },
    {
      "cell_type": "markdown",
      "metadata": {
        "id": "cFhbSfkM_G_o"
      },
      "source": [
        "## Inline Question 1:\n",
        "Why do we expect our loss to be close to -log(0.1)? Explain briefly.**\n",
        "\n",
        "**Your answer:** Since the initialization is random and total number of classes is 10, the average probability to correct predict a single class out of 10, will be 0.1, and when we take negative log likelihood, we will get -log(0.1).\n"
      ]
    },
    {
      "cell_type": "code",
      "execution_count": null,
      "metadata": {
        "id": "-4d2qVe2_G_o",
        "colab": {
          "base_uri": "https://localhost:8080/"
        },
        "outputId": "c0f0733d-6dd6-4eb6-f7f1-dd2149d1a13a"
      },
      "outputs": [
        {
          "output_type": "stream",
          "name": "stdout",
          "text": [
            "numerical: 3.968578 analytic: 3.968578, relative error: 1.295429e-08\n",
            "numerical: 1.400161 analytic: 1.400161, relative error: 5.070946e-08\n",
            "numerical: -0.855506 analytic: -0.855506, relative error: 7.942497e-08\n",
            "numerical: -1.957541 analytic: -1.957541, relative error: 3.456115e-08\n",
            "numerical: -3.930969 analytic: -3.930969, relative error: 1.703684e-08\n",
            "numerical: 0.013416 analytic: 0.013416, relative error: 6.494638e-07\n",
            "numerical: -1.302852 analytic: -1.302852, relative error: 3.865115e-08\n",
            "numerical: 4.277021 analytic: 4.277021, relative error: 1.455128e-08\n",
            "numerical: 2.516772 analytic: 2.516772, relative error: 2.292516e-08\n",
            "numerical: -2.421049 analytic: -2.421049, relative error: 2.040048e-08\n",
            "numerical: 1.554287 analytic: 1.554287, relative error: 3.250201e-08\n",
            "numerical: 1.086560 analytic: 1.086560, relative error: 1.835891e-09\n",
            "numerical: -0.055680 analytic: -0.055680, relative error: 2.373235e-07\n",
            "numerical: -0.505043 analytic: -0.505043, relative error: 2.219868e-08\n",
            "numerical: -2.622412 analytic: -2.622412, relative error: 2.583107e-08\n",
            "numerical: -1.176561 analytic: -1.176561, relative error: 8.154922e-08\n",
            "numerical: 1.669329 analytic: 1.669329, relative error: 4.262737e-08\n",
            "numerical: 1.668615 analytic: 1.668615, relative error: 2.286812e-08\n",
            "numerical: 1.781403 analytic: 1.781403, relative error: 3.703991e-08\n",
            "numerical: 0.408184 analytic: 0.408184, relative error: 3.978739e-08\n"
          ]
        }
      ],
      "source": [
        "# Complete the implementation of softmax_loss_naive and implement a (naive)\n",
        "# version of the gradient that uses nested loops.\n",
        "loss, grad = softmax_loss_naive(W, X_dev, y_dev, 0.0)\n",
        "\n",
        "# As we did for the SVM, use numeric gradient checking as a debugging tool.\n",
        "# The numeric gradient should be close to the analytic gradient.\n",
        "from cs682.gradient_check import grad_check_sparse\n",
        "f = lambda w: softmax_loss_naive(w, X_dev, y_dev, 0.0)[0]\n",
        "grad_numerical = grad_check_sparse(f, W, grad, 10)\n",
        "\n",
        "# similar to SVM case, do another gradient check with regularization\n",
        "loss, grad = softmax_loss_naive(W, X_dev, y_dev, 5e1)\n",
        "f = lambda w: softmax_loss_naive(w, X_dev, y_dev, 5e1)[0]\n",
        "grad_numerical = grad_check_sparse(f, W, grad, 10)"
      ]
    },
    {
      "cell_type": "code",
      "execution_count": null,
      "metadata": {
        "id": "G8otglbn_G_o",
        "colab": {
          "base_uri": "https://localhost:8080/"
        },
        "outputId": "a8e5081f-32e8-4402-dad3-dd402f38128a"
      },
      "outputs": [
        {
          "output_type": "stream",
          "name": "stdout",
          "text": [
            "naive loss: 2.336509e+00 computed in 0.116768s\n",
            "(500, 10)\n",
            "(500, 10)\n",
            "(500, 10)\n",
            "vectorized loss: 2.336509e+00 computed in 0.023579s\n",
            "Loss difference: 0.000000\n",
            "Gradient difference: 0.000000\n"
          ]
        }
      ],
      "source": [
        "# Now that we have a naive implementation of the softmax loss function and its gradient,\n",
        "# implement a vectorized version in softmax_loss_vectorized.\n",
        "# The two versions should compute the same results, but the vectorized version should be\n",
        "# much faster.\n",
        "tic = time.time()\n",
        "loss_naive, grad_naive = softmax_loss_naive(W, X_dev, y_dev, 0.000005)\n",
        "toc = time.time()\n",
        "print('naive loss: %e computed in %fs' % (loss_naive, toc - tic))\n",
        "\n",
        "from cs682.classifiers.softmax import softmax_loss_vectorized\n",
        "tic = time.time()\n",
        "loss_vectorized, grad_vectorized = softmax_loss_vectorized(W, X_dev, y_dev, 0.000005)\n",
        "toc = time.time()\n",
        "print('vectorized loss: %e computed in %fs' % (loss_vectorized, toc - tic))\n",
        "\n",
        "# As we did for the SVM, we use the Frobenius norm to compare the two versions\n",
        "# of the gradient.\n",
        "grad_difference = np.linalg.norm(grad_naive - grad_vectorized, ord='fro')\n",
        "print('Loss difference: %f' % np.abs(loss_naive - loss_vectorized))\n",
        "print('Gradient difference: %f' % grad_difference)"
      ]
    },
    {
      "cell_type": "code",
      "execution_count": null,
      "metadata": {
        "id": "ENUZKVXp_G_p",
        "colab": {
          "base_uri": "https://localhost:8080/"
        },
        "outputId": "97a0a876-e3b3-49cc-f1d7-56d9d9a8ec01"
      },
      "outputs": [
        {
          "output_type": "stream",
          "name": "stdout",
          "text": [
            "lr 1.000000e-07 reg 1.000000e+04 train accuracy: 0.354918 val accuracy: 0.365000\n",
            "lr 1.000000e-07 reg 2.500000e+04 train accuracy: 0.328776 val accuracy: 0.348000\n",
            "lr 1.000000e-07 reg 5.000000e+04 train accuracy: 0.308816 val accuracy: 0.331000\n",
            "lr 2.000000e-07 reg 1.000000e+04 train accuracy: 0.354224 val accuracy: 0.368000\n",
            "lr 2.000000e-07 reg 2.500000e+04 train accuracy: 0.328898 val accuracy: 0.336000\n",
            "lr 2.000000e-07 reg 5.000000e+04 train accuracy: 0.302000 val accuracy: 0.316000\n",
            "lr 5.000000e-07 reg 1.000000e+04 train accuracy: 0.351776 val accuracy: 0.362000\n",
            "lr 5.000000e-07 reg 2.500000e+04 train accuracy: 0.325449 val accuracy: 0.340000\n",
            "lr 5.000000e-07 reg 5.000000e+04 train accuracy: 0.294918 val accuracy: 0.307000\n",
            "lr 8.000000e-07 reg 1.000000e+04 train accuracy: 0.354510 val accuracy: 0.371000\n",
            "lr 8.000000e-07 reg 2.500000e+04 train accuracy: 0.325367 val accuracy: 0.350000\n",
            "lr 8.000000e-07 reg 5.000000e+04 train accuracy: 0.286041 val accuracy: 0.286000\n",
            "best validation accuracy achieved during cross-validation: 0.371000\n"
          ]
        }
      ],
      "source": [
        "from re import X\n",
        "# Use the validation set to tune hyperparameters (regularization strength and\n",
        "# learning rate). You should experiment with different ranges for the learning\n",
        "# rates and regularization strengths; if you are careful you should be able to\n",
        "# get a classification accuracy of over 0.35 on the validation set.\n",
        "from cs682.classifiers import Softmax\n",
        "results = {}\n",
        "best_val = -1\n",
        "best_softmax = None\n",
        "learning_rates = [1e-7, 5e-7, 8e-7, 2e-7]\n",
        "regularization_strengths = [1e4, 2.5e4, 5e4]\n",
        "iters = [1000, 1500, 2000]\n",
        "\n",
        "################################################################################\n",
        "# TODO:                                                                        #\n",
        "# Use the validation set to set the learning rate and regularization strength. #\n",
        "# This should be identical to the validation that you did for the SVM; save    #\n",
        "# the best trained softmax classifer in best_softmax.\n",
        "\n",
        "for lr in learning_rates:\n",
        "  for rs in regularization_strengths:\n",
        "\n",
        "    softmax = Softmax()\n",
        "\n",
        "    loss_hist = softmax.train(X_train, y_train, learning_rate=lr,\n",
        "                              reg=rs, num_iters=1000, verbose=False)\n",
        "\n",
        "    y_train_pred = softmax.predict(X_train)\n",
        "\n",
        "    curr_training_accuracy = np.mean(y_train == y_train_pred)\n",
        "\n",
        "    y_val_pred = softmax.predict(X_val)\n",
        "\n",
        "    curr_validation_accuracy = np.mean(y_val == y_val_pred)\n",
        "\n",
        "    results[(lr, rs)] = (curr_training_accuracy, curr_validation_accuracy)\n",
        "\n",
        "    if(curr_validation_accuracy > best_val):\n",
        "      best_val = curr_validation_accuracy\n",
        "      best_softmax = softmax\n",
        "\n",
        "                        #\n",
        "################################################################################\n",
        "# Your code\n",
        "################################################################################\n",
        "#                              END OF YOUR CODE                                #\n",
        "################################################################################\n",
        "\n",
        "# Print out results.\n",
        "for lr, reg in sorted(results):\n",
        "    train_accuracy, val_accuracy = results[(lr, reg)]\n",
        "    print('lr %e reg %e train accuracy: %f val accuracy: %f' % (\n",
        "                lr, reg, train_accuracy, val_accuracy))\n",
        "\n",
        "print('best validation accuracy achieved during cross-validation: %f' % best_val)"
      ]
    },
    {
      "cell_type": "code",
      "execution_count": null,
      "metadata": {
        "id": "7hnvJpXB_G_p",
        "colab": {
          "base_uri": "https://localhost:8080/"
        },
        "outputId": "eac2e5ea-7edd-43ef-9017-d5a1b60c8fe9"
      },
      "outputs": [
        {
          "output_type": "stream",
          "name": "stdout",
          "text": [
            "softmax on raw pixels final test set accuracy: 0.374000\n"
          ]
        }
      ],
      "source": [
        "# evaluate on test set\n",
        "# Evaluate the best softmax on test set\n",
        "y_test_pred = best_softmax.predict(X_test)\n",
        "test_accuracy = np.mean(y_test == y_test_pred)\n",
        "print('softmax on raw pixels final test set accuracy: %f' % (test_accuracy, ))"
      ]
    },
    {
      "cell_type": "markdown",
      "metadata": {
        "id": "NrR13-3T_G_q"
      },
      "source": [
        "**Inline Question** - *True or False*\n",
        "\n",
        "It's possible to add a new datapoint to a training set that would leave the SVM loss unchanged, but this is not the case with the Softmax classifier loss.\n",
        "\n",
        "*Your answer*: Yes. Certainly possible.\n",
        "\n",
        "*Your explanation*: SVM is more robust to the addition of new data points within the margin limits. If the new data point remains well within the margin limit (usually 1), it will not affect the loss in a any significant way, and the loss will remain the same.\n",
        "\n",
        "If there is a new data point that significantly affects the class probabilities, it will change the softmax loss."
      ]
    },
    {
      "cell_type": "code",
      "execution_count": null,
      "metadata": {
        "id": "NgX0TbHx_G_q",
        "colab": {
          "base_uri": "https://localhost:8080/",
          "height": 528
        },
        "outputId": "dff5e497-a554-4c38-9de6-194c5f4d4ea0"
      },
      "outputs": [
        {
          "output_type": "display_data",
          "data": {
            "text/plain": [
              "<Figure size 1000x800 with 10 Axes>"
            ],
            "image/png": "[encoded data removed]"
          },
          "metadata": {}
        }
      ],
      "source": [
        "# Visualize the learned weights for each class\n",
        "w = best_softmax.W[:-1,:] # strip out the bias\n",
        "w = w.reshape(32, 32, 3, 10)\n",
        "\n",
        "w_min, w_max = np.min(w), np.max(w)\n",
        "\n",
        "classes = ['plane', 'car', 'bird', 'cat', 'deer', 'dog', 'frog', 'horse', 'ship', 'truck']\n",
        "for i in range(10):\n",
        "    plt.subplot(2, 5, i + 1)\n",
        "\n",
        "    # Rescale the weights to be between 0 and 255\n",
        "    wimg = 255.0 * (w[:, :, :, i].squeeze() - w_min) / (w_max - w_min)\n",
        "    plt.imshow(wimg.astype('uint8'))\n",
        "    plt.axis('off')\n",
        "    plt.title(classes[i])"
      ]
    }
  ],
  "metadata": {
    "kernelspec": {
      "display_name": "Python 3",
      "language": "python",
      "name": "python3"
    },
    "language_info": {
      "codemirror_mode": {
        "name": "ipython",
        "version": 3
      },
      "file_extension": ".py",
      "mimetype": "text/x-python",
      "name": "python",
      "nbconvert_exporter": "python",
      "pygments_lexer": "ipython3",
      "version": "3.6.9"
    },
    "colab": {
      "provenance": []
    }
  },
  "nbformat": 4,
  "nbformat_minor": 0
}